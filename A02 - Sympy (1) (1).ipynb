{
 "cells": [
  {
   "cell_type": "markdown",
   "metadata": {},
   "source": [
    "# Ejercicios de optimización escalar"
   ]
  },
  {
   "cell_type": "markdown",
   "metadata": {},
   "source": [
    "**Para la siguientes funciones encuentre los puntos críticos, grafique y diga si éste se trata de un máximo o mínimo, local o global.**"
   ]
  },
  {
   "cell_type": "markdown",
   "metadata": {},
   "source": [
    "$f(x)=1260+117x-9x^2$"
   ]
  },
  {
   "cell_type": "code",
   "execution_count": 84,
   "metadata": {},
   "outputs": [
    {
     "data": {
      "text/plain": [
       "[13/18]"
      ]
     },
     "execution_count": 84,
     "metadata": {},
     "output_type": "execute_result"
    }
   ],
   "source": [
    "import sympy as sp\n",
    "import matplotlib.pyplot as plt\n",
    "%matplotlib inline\n",
    "\n",
    "sp.var(\"x\")\n",
    "\n",
    "def f(x) :\n",
    "    return((1260) + (117*x) - (9*x)**2)\n",
    "\n",
    "df = sp.diff(f(x), x)\n",
    "ddf = sp.diff(df, x)\n",
    "\n",
    "pc = sp.solve(df, x)\n",
    "pc"
   ]
  },
  {
   "cell_type": "code",
   "execution_count": 85,
   "metadata": {},
   "outputs": [
    {
     "data": {
      "image/png": "[encoded data removed]",
      "text/plain": [
       "<Figure size 432x288 with 1 Axes>"
      ]
     },
     "metadata": {
      "needs_background": "light"
     },
     "output_type": "display_data"
    }
   ],
   "source": [
    "import numpy as np\n",
    "\n",
    "plt.figure()\n",
    "\n",
    "xn = np.linspace(start=-10,\n",
    "                stop=10,\n",
    "                num=100)\n",
    "yn = f(xn) \n",
    "plt.plot(xn, yn)\n",
    "plt.grid()"
   ]
  },
  {
   "cell_type": "code",
   "execution_count": 86,
   "metadata": {},
   "outputs": [
    {
     "name": "stdout",
     "output_type": "stream",
     "text": [
      "13/18\n"
     ]
    }
   ],
   "source": [
    "for i in pc :\n",
    "    print(i)"
   ]
  },
  {
   "cell_type": "code",
   "execution_count": 87,
   "metadata": {},
   "outputs": [
    {
     "name": "stdout",
     "output_type": "stream",
     "text": [
      "El punto crítico en x=13/18 es un máximo global\n"
     ]
    }
   ],
   "source": [
    "for i in pc : \n",
    "    valor_csd = ddf.subs(x, i)\n",
    "    if valor_csd > 0 :\n",
    "        print(\"El punto crítico en x=\" + str(i) + \" es un mínimo.\")\n",
    "    elif valor_csd < 0 :\n",
    "        print(\"El punto crítico en x=\" + str(i) + \" es un máximo global\")\n",
    "    else :\n",
    "        print(\"No se sabe.\")"
   ]
  },
  {
   "cell_type": "markdown",
   "metadata": {},
   "source": [
    "$f(x)=5+x+\\frac{4}{x}$, para $x>0$"
   ]
  },
  {
   "cell_type": "code",
   "execution_count": 88,
   "metadata": {},
   "outputs": [
    {
     "data": {
      "text/plain": [
       "[-2, 2]"
      ]
     },
     "execution_count": 88,
     "metadata": {},
     "output_type": "execute_result"
    }
   ],
   "source": [
    "import sympy as sp\n",
    "import matplotlib.pyplot as plt\n",
    "%matplotlib inline\n",
    "\n",
    "sp.var(\"x\")\n",
    "\n",
    "def f(x) :\n",
    "    return((5) + (x) + (4/x))\n",
    "\n",
    "df = sp.diff(f(x), x)\n",
    "ddf = sp.diff(df, x)\n",
    "\n",
    "pc = sp.solve(df, x)\n",
    "pc\n"
   ]
  },
  {
   "cell_type": "code",
   "execution_count": 93,
   "metadata": {},
   "outputs": [
    {
     "data": {
      "image/png": "[encoded data removed]",
      "text/plain": [
       "<Figure size 432x288 with 1 Axes>"
      ]
     },
     "metadata": {
      "needs_background": "light"
     },
     "output_type": "display_data"
    }
   ],
   "source": [
    "import numpy as np\n",
    "\n",
    "plt.figure()\n",
    "\n",
    "xn = np.linspace(start=0.1,\n",
    "                stop=10,\n",
    "                num=100)\n",
    "yn = f(xn) \n",
    "plt.plot(xn, yn)\n",
    "plt.grid()"
   ]
  },
  {
   "cell_type": "code",
   "execution_count": 94,
   "metadata": {},
   "outputs": [
    {
     "name": "stdout",
     "output_type": "stream",
     "text": [
      "-2\n",
      "2\n"
     ]
    }
   ],
   "source": [
    "for i in pc :\n",
    "    print(i)"
   ]
  },
  {
   "cell_type": "code",
   "execution_count": 95,
   "metadata": {},
   "outputs": [
    {
     "name": "stdout",
     "output_type": "stream",
     "text": [
      "El punto crítico en x=-2 es un máximo local\n",
      "El punto crítico en x=2 es un mínimo local.\n"
     ]
    }
   ],
   "source": [
    "for i in pc : \n",
    "    valor_csd = ddf.subs(x, i)\n",
    "    if valor_csd > 0 :\n",
    "        print(\"El punto crítico en x=\" + str(i) + \" es un mínimo local.\")\n",
    "    elif valor_csd < 0 :\n",
    "        print(\"El punto crítico en x=\" + str(i) + \" es un máximo local\")\n",
    "    else :\n",
    "        print(\"No se sabe.\")"
   ]
  },
  {
   "cell_type": "code",
   "execution_count": null,
   "metadata": {},
   "outputs": [],
   "source": []
  },
  {
   "cell_type": "markdown",
   "metadata": {},
   "source": [
    "$f(x)=6-2x+\\sqrt{18-2x^2}$, para $-3\\leq x\\leq 3$"
   ]
  },
  {
   "cell_type": "code",
   "execution_count": 63,
   "metadata": {},
   "outputs": [
    {
     "data": {
      "text/plain": [
       "[-1]"
      ]
     },
     "execution_count": 63,
     "metadata": {},
     "output_type": "execute_result"
    }
   ],
   "source": [
    "import sympy as sp\n",
    "import matplotlib.pyplot as plt\n",
    "%matplotlib inline\n",
    "\n",
    "sp.var(\"x\")\n",
    "\n",
    "def f(x) :\n",
    "    return((6) - (2*x) + ((18 - 2*x**2)**1/2))\n",
    "\n",
    "df = sp.diff(f(x), x)\n",
    "ddf = sp.diff(df, x)\n",
    "\n",
    "pc = sp.solve(df, x)\n",
    "pc\n"
   ]
  },
  {
   "cell_type": "code",
   "execution_count": 76,
   "metadata": {},
   "outputs": [
    {
     "data": {
      "image/png": "[encoded data removed]",
      "text/plain": [
       "<Figure size 432x288 with 1 Axes>"
      ]
     },
     "metadata": {
      "needs_background": "light"
     },
     "output_type": "display_data"
    }
   ],
   "source": [
    "import numpy as np\n",
    "\n",
    "plt.figure()\n",
    "\n",
    "xn = np.linspace(start=-3,\n",
    "                stop=3,\n",
    "                num=100)\n",
    "yn = f(xn) \n",
    "plt.plot(xn, yn)\n",
    "plt.grid()"
   ]
  },
  {
   "cell_type": "code",
   "execution_count": 79,
   "metadata": {},
   "outputs": [
    {
     "name": "stdout",
     "output_type": "stream",
     "text": [
      "-2\n",
      "2\n"
     ]
    }
   ],
   "source": [
    "for i in pc : \n",
    "    print(i)"
   ]
  },
  {
   "cell_type": "code",
   "execution_count": 80,
   "metadata": {},
   "outputs": [
    {
     "name": "stdout",
     "output_type": "stream",
     "text": [
      "El punto crítico en x=-2 es un máximo local\n",
      "El punto crítico en x=2 es un mínimo local.\n"
     ]
    }
   ],
   "source": [
    "for i in pc : \n",
    "    valor_csd = ddf.subs(x, i)\n",
    "    if valor_csd > 0 :\n",
    "        print(\"El punto crítico en x=\" + str(i) + \" es un mínimo local.\")\n",
    "    elif valor_csd < 0 :\n",
    "        print(\"El punto crítico en x=\" + str(i) + \" es un máximo local\")\n",
    "    else :\n",
    "        print(\"No se sabe.\")"
   ]
  },
  {
   "cell_type": "code",
   "execution_count": null,
   "metadata": {},
   "outputs": [],
   "source": []
  },
  {
   "cell_type": "markdown",
   "metadata": {},
   "source": [
    "$f(x)=\\frac{1}{4}x^4+\\frac{1}{3}x^3-x^2$ en el intervalo $[-3,1.7]$"
   ]
  },
  {
   "cell_type": "code",
   "execution_count": 96,
   "metadata": {},
   "outputs": [
    {
     "data": {
      "text/plain": [
       "[-2.00000000000000, 0.0, 1.00000000000000]"
      ]
     },
     "execution_count": 96,
     "metadata": {},
     "output_type": "execute_result"
    }
   ],
   "source": [
    "import sympy as sp\n",
    "import matplotlib.pyplot as plt\n",
    "%matplotlib inline\n",
    "\n",
    "sp.var(\"x\")\n",
    "\n",
    "def f(x) :\n",
    "    return((1/4*x**4) + (1/3*x**3) - (x**2))\n",
    "\n",
    "df = sp.diff(f(x), x)\n",
    "ddf = sp.diff(df, x)\n",
    "\n",
    "pc = sp.solve(df, x)\n",
    "pc"
   ]
  },
  {
   "cell_type": "code",
   "execution_count": 97,
   "metadata": {},
   "outputs": [
    {
     "data": {
      "image/png": "[encoded data removed]",
      "text/plain": [
       "<Figure size 432x288 with 1 Axes>"
      ]
     },
     "metadata": {
      "needs_background": "light"
     },
     "output_type": "display_data"
    }
   ],
   "source": [
    "import numpy as np\n",
    "\n",
    "plt.figure()\n",
    "\n",
    "xn = np.linspace(start=-3,\n",
    "                stop=1.7,\n",
    "                num=100)\n",
    "yn = f(xn) \n",
    "plt.plot(xn, yn)\n",
    "plt.grid()"
   ]
  },
  {
   "cell_type": "code",
   "execution_count": 98,
   "metadata": {},
   "outputs": [
    {
     "name": "stdout",
     "output_type": "stream",
     "text": [
      "-2.00000000000000\n",
      "0.0\n",
      "1.00000000000000\n"
     ]
    }
   ],
   "source": [
    "for i in pc : \n",
    "    print(i)"
   ]
  },
  {
   "cell_type": "code",
   "execution_count": 129,
   "metadata": {
    "scrolled": true
   },
   "outputs": [
    {
     "name": "stdout",
     "output_type": "stream",
     "text": [
      "El punto crítico en x=-2.00000000000000 es un mínimo local.\n",
      "El punto crítico en x=0.0 es un máximo local\n",
      "El punto crítico en x=1.00000000000000 es un mínimo local.\n"
     ]
    }
   ],
   "source": [
    "for i in pc : \n",
    "    valor_csd = ddf.subs(x, i)\n",
    "    if valor_csd > 0 :\n",
    "        print(\"El punto crítico en x=\" + str(i) + \" es un mínimo local.\")\n",
    "    elif valor_csd < 0 :\n",
    "        print(\"El punto crítico en x=\" + str(i) + \" es un máximo local\")\n",
    "    else :\n",
    "        print(\"No se sabe.\")"
   ]
  },
  {
   "cell_type": "markdown",
   "metadata": {},
   "source": [
    "No pude poner la diferencia entre el mínimo local y global en este ejercicio"
   ]
  },
  {
   "cell_type": "markdown",
   "metadata": {},
   "source": [
    "---\n",
    "**Resuelva los siguientes problemas usando la librería `SymPy`. Use celdas en `Markdown` para explicar su procedimiento.**"
   ]
  },
  {
   "cell_type": "markdown",
   "metadata": {},
   "source": [
    "El perímetro de un triángulo isósceles es de $10 cm$. ¿Cuánto deben medir sus lados para que el volumen del cuerpo generado por la rotación del triángulo en torno a su base sea el mayor posible? (Volumen de un cono $= \\frac{1}{3}\\pi r^2 h$, donde $r$ es el radio de la base y $h$ la altura del cono)."
   ]
  },
  {
   "cell_type": "code",
   "execution_count": null,
   "metadata": {},
   "outputs": [],
   "source": []
  },
  {
   "cell_type": "code",
   "execution_count": null,
   "metadata": {},
   "outputs": [],
   "source": []
  },
  {
   "cell_type": "code",
   "execution_count": null,
   "metadata": {},
   "outputs": [],
   "source": []
  },
  {
   "cell_type": "code",
   "execution_count": null,
   "metadata": {},
   "outputs": [],
   "source": []
  },
  {
   "cell_type": "code",
   "execution_count": null,
   "metadata": {},
   "outputs": [],
   "source": []
  },
  {
   "cell_type": "markdown",
   "metadata": {},
   "source": [
    "Disponemos de una barra de aluminio de 6 metros para construir una portería de fútbol. Si queremos que el área de la portería sea máxima, ¿cuánto deben medir los postes y el travesaño?"
   ]
  },
  {
   "cell_type": "code",
   "execution_count": null,
   "metadata": {},
   "outputs": [],
   "source": []
  },
  {
   "cell_type": "code",
   "execution_count": null,
   "metadata": {},
   "outputs": [],
   "source": []
  },
  {
   "cell_type": "code",
   "execution_count": null,
   "metadata": {},
   "outputs": [],
   "source": []
  },
  {
   "cell_type": "code",
   "execution_count": null,
   "metadata": {},
   "outputs": [],
   "source": []
  },
  {
   "cell_type": "code",
   "execution_count": null,
   "metadata": {},
   "outputs": [],
   "source": []
  }
 ],
 "metadata": {
  "kernelspec": {
   "display_name": "Python 3 (ipykernel)",
   "language": "python",
   "name": "python3"
  },
  "language_info": {
   "codemirror_mode": {
    "name": "ipython",
    "version": 3
   },
   "file_extension": ".py",
   "mimetype": "text/x-python",
   "name": "python",
   "nbconvert_exporter": "python",
   "pygments_lexer": "ipython3",
   "version": "3.9.12"
  }
 },
 "nbformat": 4,
 "nbformat_minor": 2
}
